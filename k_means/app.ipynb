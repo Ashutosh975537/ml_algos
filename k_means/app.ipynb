{
 "cells": [
  {
   "cell_type": "code",
   "execution_count": 1,
   "id": "6d652ec2",
   "metadata": {},
   "outputs": [
    {
     "name": "stdout",
     "output_type": "stream",
     "text": [
      "Hello Welcome to the K_mean clustering\n"
     ]
    }
   ],
   "source": [
    "print(\"Hello Welcome to the K_mean clustering\")"
   ]
  },
  {
   "cell_type": "code",
   "execution_count": 2,
   "id": "6144e8d8",
   "metadata": {},
   "outputs": [],
   "source": [
    "from sklearn.datasets import make_blobs\n",
    "import matplotlib.pyplot as plt\n",
    "import numpy as np"
   ]
  },
  {
   "cell_type": "code",
   "execution_count": 85,
   "id": "312a39b4",
   "metadata": {},
   "outputs": [],
   "source": [
    "centroids = [(-5,-5),(5,5),(-6,6) ,(6,-6)]\n",
    "cluster_std = [1,1,1,1]"
   ]
  },
  {
   "cell_type": "code",
   "execution_count": 86,
   "id": "8c9a68bb",
   "metadata": {},
   "outputs": [
    {
     "data": {
      "image/png": "[encoded data removed]",
      "text/plain": [
       "<Figure size 640x480 with 1 Axes>"
      ]
     },
     "metadata": {},
     "output_type": "display_data"
    }
   ],
   "source": [
    "X, y = make_blobs(n_samples=400,cluster_std= cluster_std , centers = centroids , n_features=2 , random_state= 2)\n",
    "plt.scatter(X[:,0],X[:,1])\n",
    "plt.show()"
   ]
  },
  {
   "cell_type": "code",
   "execution_count": 87,
   "id": "37be5a80",
   "metadata": {},
   "outputs": [],
   "source": [
    "import random"
   ]
  },
  {
   "cell_type": "code",
   "execution_count": null,
   "id": "0e7d64fa",
   "metadata": {},
   "outputs": [],
   "source": [
    "class k_means : \n",
    "        def __init__(self,max_iteration = 100,n_clusters = 4):\n",
    "            self.cluster = n_clusters\n",
    "            self.max_iteration = max_iteration\n",
    "            self.centroid = None\n",
    "        \n",
    "        def assign_clusters(self,x_train):\n",
    "            clusters = []\n",
    "            distance = [] \n",
    "            \n",
    "            for row in x_train :\n",
    "                for centroid in self.centroid :\n",
    "                    distance.append(np.dot(row - centroid,row - centroid))\n",
    "                \n",
    "                min_value = min(distance)\n",
    "                \n",
    "                min_index =  distance.index(min_value)\n",
    "                \n",
    "                distance.clear()\n",
    "                clusters.append(min_index)\n",
    "            \n",
    "            clusters = np.array(clusters)\n",
    "            \n",
    "            return clusters\n",
    "\n",
    "        def move_centroids(self,x_train ,clusters):\n",
    "            \n",
    "            new_centroid = []\n",
    "            \n",
    "            n_type = np.unique(clusters)\n",
    "            \n",
    "            for type in n_type :\n",
    "                new_centroid.append((np.mean(x_train[clusters == type] , axis=0)))\n",
    "                \n",
    "            self.centroid = np.array(new_centroid)\n",
    "        \n",
    "        def fit_predict(self,x_train):\n",
    "            \n",
    "            random_values = np.array([ random.randint(0,x_train.shape[0] )for i in range(self.cluster)])\n",
    "            self.centroid = np.array(x_train[random_values])\n",
    "            clusters = []\n",
    "            for i in range(self.max_iteration):\n",
    "                clusters = self.assign_clusters(x_train)\n",
    "                \n",
    "                old_centroid  = self.centroid \n",
    "                self.move_centroids(x_train,clusters)\n",
    "                \n",
    "                if old_centroid.all() == self.centroid.all() :\n",
    "                    break\n",
    "            \n",
    "            return clusters\n",
    "        "
   ]
  },
  {
   "cell_type": "code",
   "execution_count": 96,
   "id": "1bf79b66",
   "metadata": {},
   "outputs": [],
   "source": [
    "km = k_means()"
   ]
  },
  {
   "cell_type": "code",
   "execution_count": 97,
   "id": "4e2f7a9b",
   "metadata": {},
   "outputs": [
    {
     "name": "stdout",
     "output_type": "stream",
     "text": [
      "ya I am in\n"
     ]
    }
   ],
   "source": [
    "y_pred = km.fit_predict(X)"
   ]
  },
  {
   "cell_type": "code",
   "execution_count": 98,
   "id": "fce4bca5",
   "metadata": {},
   "outputs": [
    {
     "data": {
      "text/plain": [
       "array([2, 0, 0, 2, 0, 1, 3, 2, 3, 1, 2, 1, 2, 3, 2, 1, 2, 0, 3, 1, 0, 2,\n",
       "       1, 2, 0, 2, 2, 0, 2, 1, 0, 0, 0, 0, 2, 3, 2, 3, 0, 0, 3, 1, 1, 3,\n",
       "       1, 3, 3, 3, 1, 1, 0, 3, 3, 1, 3, 0, 2, 1, 1, 2, 3, 1, 0, 3, 3, 2,\n",
       "       1, 2, 2, 2, 3, 3, 3, 3, 3, 2, 3, 3, 0, 3, 0, 3, 2, 3, 3, 3, 2, 1,\n",
       "       1, 3, 0, 2, 1, 3, 0, 2, 2, 1, 3, 1, 0, 1, 1, 3, 1, 2, 1, 2, 0, 0,\n",
       "       0, 1, 1, 3, 2, 2, 3, 3, 1, 1, 1, 3, 3, 1, 1, 3, 2, 1, 3, 3, 0, 0,\n",
       "       2, 3, 1, 1, 2, 3, 2, 1, 2, 1, 1, 0, 3, 3, 1, 1, 2, 3, 3, 0, 0, 0,\n",
       "       3, 3, 2, 0, 3, 0, 3, 0, 2, 0, 1, 2, 2, 2, 0, 1, 3, 0, 1, 0, 1, 0,\n",
       "       3, 3, 0, 1, 2, 2, 3, 0, 1, 2, 1, 0, 0, 2, 1, 0, 0, 3, 2, 2, 3, 0,\n",
       "       0, 2, 1, 2, 3, 1, 3, 1, 2, 2, 2, 1, 0, 2, 3, 3, 2, 1, 0, 0, 1, 2,\n",
       "       1, 1, 1, 1, 2, 1, 3, 2, 3, 2, 2, 1, 0, 0, 1, 0, 2, 2, 1, 2, 2, 0,\n",
       "       1, 2, 0, 0, 0, 1, 0, 0, 0, 0, 3, 2, 1, 1, 0, 0, 0, 0, 3, 0, 1, 0,\n",
       "       0, 1, 1, 2, 0, 0, 3, 2, 0, 3, 0, 2, 3, 3, 2, 2, 0, 1, 2, 1, 3, 1,\n",
       "       2, 1, 3, 2, 1, 0, 3, 2, 2, 0, 3, 3, 0, 3, 1, 0, 3, 1, 0, 3, 2, 1,\n",
       "       0, 1, 2, 1, 0, 1, 3, 0, 0, 0, 2, 0, 3, 2, 0, 2, 0, 3, 0, 0, 2, 3,\n",
       "       3, 2, 0, 2, 3, 1, 3, 3, 2, 3, 1, 1, 3, 3, 1, 3, 2, 0, 2, 1, 1, 0,\n",
       "       0, 0, 2, 3, 2, 1, 3, 1, 0, 3, 3, 0, 3, 2, 3, 0, 1, 1, 2, 2, 0, 2,\n",
       "       2, 1, 1, 2, 2, 3, 3, 1, 1, 0, 1, 1, 3, 2, 1, 2, 2, 2, 3, 1, 0, 3,\n",
       "       1, 2, 0, 0])"
      ]
     },
     "execution_count": 98,
     "metadata": {},
     "output_type": "execute_result"
    }
   ],
   "source": [
    "y_pred"
   ]
  },
  {
   "cell_type": "code",
   "execution_count": 99,
   "id": "709242fb",
   "metadata": {},
   "outputs": [
    {
     "data": {
      "text/plain": [
       "array([[-4.24803515, -5.99376098],\n",
       "       [-4.62955546, -3.64036614],\n",
       "       [-4.17529699, -3.75178708],\n",
       "       [-5.63467931, -4.49160376],\n",
       "       [-3.63276458, -3.78211437],\n",
       "       [-5.41675785, -5.05626683],\n",
       "       [-6.45336435, -5.33801778],\n",
       "       [-5.40389227, -6.38451867],\n",
       "       [-6.05795222, -5.90900761],\n",
       "       [-3.20740715, -5.42901332],\n",
       "       [-5.63765501, -6.18761229],\n",
       "       [-5.71925384, -5.58341459],\n",
       "       [-1.7202546 , -4.02913868],\n",
       "       [-3.96697093, -5.32900243],\n",
       "       [-5.45422785, -4.48562928],\n",
       "       [-5.38151648, -4.93351099],\n",
       "       [-4.30488039, -7.03346655],\n",
       "       [-6.09873895, -3.41551294],\n",
       "       [-6.02141473, -4.5676043 ],\n",
       "       [-4.50205985, -4.87349582],\n",
       "       [-5.26905696, -2.76863321],\n",
       "       [-6.86809065, -3.26881533],\n",
       "       [-3.8264685 , -7.34360319],\n",
       "       [-4.60347984, -5.31461744],\n",
       "       [-4.38865922, -4.95202941],\n",
       "       [-4.03921806, -4.24162965],\n",
       "       [-3.46823968, -6.98584577],\n",
       "       [-5.22824756, -7.06961226],\n",
       "       [-5.27617949, -5.51688389],\n",
       "       [-4.47570357, -4.26472042],\n",
       "       [-6.13431848, -5.70742089],\n",
       "       [-7.04032305, -4.95374448],\n",
       "       [-5.65325027, -4.15754372],\n",
       "       [-4.46094168, -5.5961597 ],\n",
       "       [-6.48246548, -4.15368811],\n",
       "       [-5.37566942, -5.07447076],\n",
       "       [-5.74787095, -4.99097475],\n",
       "       [-5.32358007, -4.57617529],\n",
       "       [-0.89130738, -4.17887912],\n",
       "       [-3.53232199, -5.33567734],\n",
       "       [-4.61813377, -4.43372456],\n",
       "       [-6.7379595 , -3.95917605],\n",
       "       [-7.43476758, -4.8872735 ],\n",
       "       [-3.83847851, -4.61392195],\n",
       "       [-4.81959019, -4.44683573],\n",
       "       [-5.46200535, -4.64911151],\n",
       "       [-6.13313327, -4.56690745],\n",
       "       [-4.64086667, -4.37777959],\n",
       "       [-3.99963411, -5.38109252],\n",
       "       [-5.3135082 , -4.22898826],\n",
       "       [-4.17054157, -4.36937803],\n",
       "       [-3.66443383, -4.69737066],\n",
       "       [-4.75856037, -4.50257435],\n",
       "       [-5.0191305 , -3.82499878],\n",
       "       [-6.42121723, -5.1534952 ],\n",
       "       [-3.88211327, -5.27424209],\n",
       "       [-2.44956176, -6.47317325],\n",
       "       [-7.65944946, -5.09145262],\n",
       "       [-4.56650367, -3.72162077],\n",
       "       [-3.89085672, -6.76491773],\n",
       "       [-5.36447909, -5.87597948],\n",
       "       [-6.25542722, -4.06183633],\n",
       "       [-5.30408644, -2.41470513],\n",
       "       [-5.32504963, -5.56023451],\n",
       "       [-4.39848419, -4.99634051],\n",
       "       [-4.87517635, -4.24349786],\n",
       "       [-4.49711858, -6.24528809],\n",
       "       [-5.41931648, -5.1323289 ],\n",
       "       [-4.49814279, -5.8442137 ],\n",
       "       [-4.20082   , -3.73738634],\n",
       "       [-5.18946926, -5.07721867],\n",
       "       [-4.74342955, -5.98877905],\n",
       "       [-4.61952803, -5.21713527],\n",
       "       [-6.54667461, -7.08265194],\n",
       "       [-6.22142917, -3.19552336],\n",
       "       [-5.82913529, -4.91228978],\n",
       "       [-7.1361961 , -3.35972919],\n",
       "       [-4.95846061, -6.11792545],\n",
       "       [-4.38985591, -4.5765031 ],\n",
       "       [-4.44854596, -2.70779199],\n",
       "       [-5.59375558, -3.85049943],\n",
       "       [-5.03957024, -4.67399657],\n",
       "       [-5.69858995, -5.92889192],\n",
       "       [-4.78388399, -6.85861239],\n",
       "       [-4.79579202, -3.59330376],\n",
       "       [-4.63494648, -4.22591797],\n",
       "       [-5.67767558, -6.43943903],\n",
       "       [-6.06079904, -4.40833348],\n",
       "       [-5.46834626, -6.25472031],\n",
       "       [-5.87810789, -5.15643417],\n",
       "       [-6.79343559, -5.84174737],\n",
       "       [-6.41881055, -5.25177412],\n",
       "       [-5.1144213 , -5.49817419],\n",
       "       [-5.33882197, -5.23618403],\n",
       "       [-3.16466728, -4.55931013],\n",
       "       [-4.99999024, -4.45764743],\n",
       "       [-5.18325657, -3.98014527],\n",
       "       [-5.90224607, -5.59097228],\n",
       "       [-3.25818781, -5.44750088],\n",
       "       [-4.30380202, -4.30258373]])"
      ]
     },
     "execution_count": 99,
     "metadata": {},
     "output_type": "execute_result"
    }
   ],
   "source": [
    "x_cluster_one = X[y_pred == 1]\n",
    "x_cluster_one"
   ]
  },
  {
   "cell_type": "code",
   "execution_count": 100,
   "id": "03256375",
   "metadata": {},
   "outputs": [
    {
     "data": {
      "text/plain": [
       "np.True_"
      ]
     },
     "execution_count": 100,
     "metadata": {},
     "output_type": "execute_result"
    }
   ],
   "source": [
    "np.True_ == np.True_"
   ]
  },
  {
   "cell_type": "code",
   "execution_count": 101,
   "id": "c2fa58e6",
   "metadata": {},
   "outputs": [
    {
     "data": {
      "text/plain": [
       "<matplotlib.collections.PathCollection at 0x2145cefc6e0>"
      ]
     },
     "execution_count": 101,
     "metadata": {},
     "output_type": "execute_result"
    },
    {
     "data": {
      "image/png": "[encoded data removed]",
      "text/plain": [
       "<Figure size 640x480 with 1 Axes>"
      ]
     },
     "metadata": {},
     "output_type": "display_data"
    }
   ],
   "source": [
    "plt.scatter(X[y_pred == 0][:,0],X[y_pred == 0][:,1],c='red')\n",
    "plt.scatter(X[y_pred == 1][:,0],X[y_pred == 1][:,1] , color = 'green')\n",
    "plt.scatter(X[y_pred == 2][:,0],X[y_pred == 2][:,1],c='blue')\n",
    "plt.scatter(X[y_pred == 3][:,0],X[y_pred == 3][:,1] , color = 'orange')"
   ]
  },
  {
   "cell_type": "code",
   "execution_count": null,
   "id": "536f5fa4",
   "metadata": {},
   "outputs": [],
   "source": []
  }
 ],
 "metadata": {
  "kernelspec": {
   "display_name": "ml_algo-env",
   "language": "python",
   "name": "python3"
  },
  "language_info": {
   "codemirror_mode": {
    "name": "ipython",
    "version": 3
   },
   "file_extension": ".py",
   "mimetype": "text/x-python",
   "name": "python",
   "nbconvert_exporter": "python",
   "pygments_lexer": "ipython3",
   "version": "3.12.2"
  }
 },
 "nbformat": 4,
 "nbformat_minor": 5
}
